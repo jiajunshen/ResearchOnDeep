{
 "metadata": {
  "name": ""
 },
 "nbformat": 3,
 "nbformat_minor": 0,
 "worksheets": [
  {
   "cells": [
    {
     "cell_type": "raw",
     "metadata": {},
     "source": [
      "In this file, we will try to formalize the localized RBM."
     ]
    },
    {
     "cell_type": "code",
     "collapsed": false,
     "input": [
      "import RBM as RBM\n",
      "import theanoRBM\n",
      "import numpy as np\n",
      "import amitgroup.io.mnist as mn\n",
      "import amitgroup.plot as gr\n",
      "import amitgroup.features as features\n",
      "import amitgroup as ag\n",
      "from sklearn import svm\n",
      "from sklearn import neighbors\n",
      "from experimentRBMSep import subsample\n",
      "from experimentRBMSep import spreading\n",
      "import matplotlib.pylab as plt\n",
      "import math\n",
      "import scipy\n",
      "import scikitRBM"
     ],
     "language": "python",
     "metadata": {},
     "outputs": [
      {
       "output_type": "stream",
       "stream": "stderr",
       "text": [
        "/Users/jiajunshen/Library/Enthought/Canopy_64bit/User/lib/python2.7/site-packages/scipy/lib/_util.py:35: DeprecationWarning: Module scipy.linalg.blas.fblas is deprecated, use scipy.linalg.blas instead\n",
        "  DeprecationWarning)\n",
        "/Users/jiajunshen/Library/Enthought/Canopy_64bit/User/lib/python2.7/site-packages/scipy/lib/_util.py:35: DeprecationWarning: Module scipy.linalg.blas.fblas is deprecated, use scipy.linalg.blas instead\n",
        "  DeprecationWarning)\n",
        "/Users/jiajunshen/Library/Enthought/Canopy_64bit/User/lib/python2.7/site-packages/scipy/lib/_util.py:35: DeprecationWarning: Module scipy.linalg.blas.fblas is deprecated, use scipy.linalg.blas instead\n",
        "  DeprecationWarning)\n",
        "/Users/jiajunshen/Library/Enthought/Canopy_64bit/User/lib/python2.7/site-packages/scipy/lib/_util.py:35: DeprecationWarning: Module scipy.linalg.blas.fblas is deprecated, use scipy.linalg.blas instead\n",
        "  DeprecationWarning)\n",
        "/Users/jiajunshen/Library/Enthought/Canopy_64bit/User/lib/python2.7/site-packages/scipy/lib/_util.py:35: DeprecationWarning: Module scipy.linalg.blas.fblas is deprecated, use scipy.linalg.blas instead\n",
        "  DeprecationWarning)\n",
        "/Users/jiajunshen/Library/Enthought/Canopy_64bit/User/lib/python2.7/site-packages/scipy/lib/_util.py:35: DeprecationWarning: Module scipy.linalg.blas.fblas is deprecated, use scipy.linalg.blas instead\n",
        "  DeprecationWarning)\n",
        "/Users/jiajunshen/Library/Enthought/Canopy_64bit/User/lib/python2.7/site-packages/scipy/lib/_util.py:35: DeprecationWarning: Module scipy.linalg.blas.fblas is deprecated, use scipy.linalg.blas instead\n",
        "  DeprecationWarning)\n",
        "/Users/jiajunshen/Library/Enthought/Canopy_64bit/User/lib/python2.7/site-packages/scipy/lib/_util.py:35: DeprecationWarning: Module scipy.linalg.blas.fblas is deprecated, use scipy.linalg.blas instead\n",
        "  DeprecationWarning)\n"
       ]
      }
     ],
     "prompt_number": 1
    },
    {
     "cell_type": "code",
     "collapsed": false,
     "input": [
      "def get_patches(image):\n",
      "        '''\n",
      "        Toy Function: setting not as parameter\n",
      "        Settings Here Need:\n",
      "1.sample_per_image\n",
      "2.patch_Size\n",
      "3.patch_frame\n",
      "4.bedges\n",
      "5.threshold\n",
      "\n",
      "        '''\n",
      "        patchesSize = 7\n",
      "        bedges_settings=dict(radius = 2, spread = 'orthogonal',contrast_insensitive = False)\n",
      "        settings = {}\n",
      "        settings['samples_per_image'] = 10\n",
      "        settings['patch_Size'] = [patchesSize,patchesSize]\n",
      "        settings['patch_frame'] = 1\n",
      "        settings['bedges'] = dict(k=5,radius=1,minimum_contrast=0.05,contrast_insensitive=True)\n",
      "        settings['bedges'].update(bedges_settings)\n",
      "        settings['threshold'] =  10\n",
      "\n",
      "        samples_per_image = settings['samples_per_image']\n",
      "        patchSize = settings['patch_Size']\n",
      "        fr = settings['patch_frame']\n",
      "        the_patches = []\n",
      "        img = image\n",
      "        w,h = [img.shape[i]-patchSize[i] + 1 for i in xrange(2)]\n",
      "        edges = ag.features.bedges(img,**settings['bedges'])\n",
      "        #To get Patches From Images#\n",
      "        for samples in xrange(samples_per_image):\n",
      "            temp_patches_num = 0;\n",
      "            temp_patches = numpy.zeros((int(patchesSize),int(patchesSize)));\n",
      "            for tries in xrange(20):\n",
      "                x,y = random.randint(0,w - 1), random.randint(0,h-1)\n",
      "                selection = [slice(x,x+patchSize[0]),slice(y,y + patchSize[1])]\n",
      "                imagePatch = img[selection]\n",
      "                edgepatch = edges[selection]\n",
      "                edgeNum = edgepatch[fr:-fr,fr:-fr].sum()\n",
      "                #print edgeNum\n",
      "                if edgeNum < settings['threshold']:\n",
      "                    continue;\n",
      "                else:\n",
      "                    if edgeNum >= temp_patches_num:\n",
      "                        temp_patches_num = edgeNum;\n",
      "                        temp_patches = imagePatch      \n",
      "            the_patches.append(temp_patches)\n",
      "        return the_patches"
     ],
     "language": "python",
     "metadata": {},
     "outputs": [],
     "prompt_number": 2
    },
    {
     "cell_type": "code",
     "collapsed": false,
     "input": [
      "    digits = [0,1,2,3,4,5,6,7,8,9]\n",
      "    images,labels = mn.load_mnist('training',digits,'../data/',False,slice(0,6000,5),True,False)\n",
      "    c = map(get_patches,images)\n",
      "    raw_patches = []\n",
      "    for patches in c:\n",
      "        raw_patches.extend(patches)\n",
      "    raw_patches = np.array(raw_patches)\n",
      "    print raw_patches.shape"
     ],
     "language": "python",
     "metadata": {},
     "outputs": [
      {
       "output_type": "stream",
       "stream": "stdout",
       "text": [
        "(12000, 7, 7)\n"
       ]
      }
     ],
     "prompt_number": 3
    },
    {
     "cell_type": "code",
     "collapsed": false,
     "input": [
      "gr.images(raw_patches[0:20].reshape(20,5,5))"
     ],
     "language": "python",
     "metadata": {},
     "outputs": [
      {
       "metadata": {},
       "output_type": "display_data",
       "png": "[encoded data removed]",
       "text": [
        "<matplotlib.figure.Figure at 0x10295a150>"
       ]
      }
     ],
     "prompt_number": 98
    },
    {
     "cell_type": "code",
     "collapsed": false,
     "input": [
      "\"\"\"This tutorial introduces restricted boltzmann machines (RBM) using Theano.\n",
      "\n",
      "Boltzmann Machines (BMs) are a particular form of energy-based model which\n",
      "contain hidden variables. Restricted Boltzmann Machines further restrict BMs\n",
      "to those without visible-visible and hidden-hidden connections.\n",
      "\"\"\"\n",
      "import cPickle\n",
      "import gzip\n",
      "import time\n",
      "import PIL.Image\n",
      "\n",
      "import numpy\n",
      "\n",
      "import theano\n",
      "import theano.tensor as T\n",
      "import os\n",
      "\n",
      "from theano.tensor.shared_randomstreams import RandomStreams\n",
      "\n",
      "from utils import tile_raster_images\n",
      "from logistic_sgd import load_data\n",
      "\n",
      "\n",
      "class RBM(object):\n",
      "    \"\"\"Restricted Boltzmann Machine (RBM)  \"\"\"\n",
      "    def __init__(self, input=None, n_visible=784, n_hidden=500, \\\n",
      "        W=None, hbias=None, vbias=None, numpy_rng=None,\n",
      "        theano_rng=None):\n",
      "        \"\"\"\n",
      "        RBM constructor. Defines the parameters of the model along with\n",
      "        basic operations for inferring hidden from visible (and vice-versa),\n",
      "        as well as for performing CD updates.\n",
      "\n",
      "        :param input: None for standalone RBMs or symbolic variable if RBM is\n",
      "        part of a larger graph.\n",
      "\n",
      "        :param n_visible: number of visible units\n",
      "\n",
      "        :param n_hidden: number of hidden units\n",
      "\n",
      "        :param W: None for standalone RBMs or symbolic variable pointing to a\n",
      "        shared weight matrix in case RBM is part of a DBN network; in a DBN,\n",
      "        the weights are shared between RBMs and layers of a MLP\n",
      "\n",
      "        :param hbias: None for standalone RBMs or symbolic variable pointing\n",
      "        to a shared hidden units bias vector in case RBM is part of a\n",
      "        different network\n",
      "\n",
      "        :param vbias: None for standalone RBMs or a symbolic variable\n",
      "        pointing to a shared visible units bias\n",
      "        \"\"\"\n",
      "\n",
      "        self.n_visible = n_visible\n",
      "        self.n_hidden = n_hidden\n",
      "\n",
      "        if numpy_rng is None:\n",
      "            # create a number generator\n",
      "            numpy_rng = numpy.random.RandomState(1234)\n",
      "\n",
      "        if theano_rng is None:\n",
      "            theano_rng = RandomStreams(numpy_rng.randint(2 ** 30))\n",
      "\n",
      "        if W is None:\n",
      "            # W is initialized with `initial_W` which is uniformely\n",
      "            # sampled from -4*sqrt(6./(n_visible+n_hidden)) and\n",
      "            # 4*sqrt(6./(n_hidden+n_visible)) the output of uniform if\n",
      "            # converted using asarray to dtype theano.config.floatX so\n",
      "            # that the code is runable on GPU\n",
      "            initial_W = numpy.asarray(numpy_rng.uniform(\n",
      "                      low=-4 * numpy.sqrt(6. / (n_hidden + n_visible)),\n",
      "                      high=4 * numpy.sqrt(6. / (n_hidden + n_visible)),\n",
      "                      size=(n_visible, n_hidden)),\n",
      "                      dtype=theano.config.floatX)\n",
      "            # theano shared variables for weights and biases\n",
      "            W = theano.shared(value=initial_W, name='W', borrow=True)\n",
      "\n",
      "        if hbias is None:\n",
      "            # create shared variable for hidden units bias\n",
      "            hbias = theano.shared(value=numpy.zeros(n_hidden,\n",
      "                                                    dtype=theano.config.floatX),\n",
      "                                  name='hbias', borrow=True)\n",
      "\n",
      "        if vbias is None:\n",
      "            # create shared variable for visible units bias\n",
      "            vbias = theano.shared(value=numpy.zeros(n_visible,\n",
      "                                                    dtype=theano.config.floatX),\n",
      "                                  name='vbias', borrow=True)\n",
      "\n",
      "        # initialize input layer for standalone RBM or layer0 of DBN\n",
      "        self.input = input\n",
      "        if not input:\n",
      "            self.input = T.matrix('input')\n",
      "\n",
      "        self.W = W\n",
      "        self.hbias = hbias\n",
      "        self.vbias = vbias\n",
      "        self.theano_rng = theano_rng\n",
      "        # **** WARNING: It is not a good idea to put things in this list\n",
      "        # other than shared variables created in this function.\n",
      "        self.params = [self.W, self.hbias, self.vbias]\n",
      "\n",
      "    def free_energy(self, v_sample):\n",
      "        ''' Function to compute the free energy '''\n",
      "        wx_b = T.dot(v_sample, self.W) + self.hbias\n",
      "        vbias_term = T.dot(v_sample, self.vbias)\n",
      "        hidden_term = T.sum(T.log(1 + T.exp(wx_b)), axis=1)\n",
      "        return -hidden_term - vbias_term\n",
      "\n",
      "    def propup(self, vis):\n",
      "        '''This function propagates the visible units activation upwards to\n",
      "        the hidden units\n",
      "\n",
      "        Note that we return also the pre-sigmoid activation of the\n",
      "        layer. As it will turn out later, due to how Theano deals with\n",
      "        optimizations, this symbolic variable will be needed to write\n",
      "        down a more stable computational graph (see details in the\n",
      "        reconstruction cost function)\n",
      "\n",
      "        '''\n",
      "        pre_sigmoid_activation = T.dot(vis, self.W) + self.hbias\n",
      "        return [pre_sigmoid_activation, T.nnet.sigmoid(pre_sigmoid_activation)]\n",
      "\n",
      "    def sample_h_given_v(self, v0_sample):\n",
      "        ''' This function infers state of hidden units given visible units '''\n",
      "        # compute the activation of the hidden units given a sample of\n",
      "        # the visibles\n",
      "        pre_sigmoid_h1, h1_mean = self.propup(v0_sample)\n",
      "        # get a sample of the hiddens given their activation\n",
      "        # Note that theano_rng.binomial returns a symbolic sample of dtype\n",
      "        # int64 by default. If we want to keep our computations in floatX\n",
      "        # for the GPU we need to specify to return the dtype floatX\n",
      "        h1_sample = self.theano_rng.binomial(size=h1_mean.shape,\n",
      "                                             n=1, p=h1_mean,\n",
      "                                             dtype=theano.config.floatX)\n",
      "        return [pre_sigmoid_h1, h1_mean, h1_sample]\n",
      "\n",
      "    def propdown(self, hid):\n",
      "        '''This function propagates the hidden units activation downwards to\n",
      "        the visible units\n",
      "\n",
      "        Note that we return also the pre_sigmoid_activation of the\n",
      "        layer. As it will turn out later, due to how Theano deals with\n",
      "        optimizations, this symbolic variable will be needed to write\n",
      "        down a more stable computational graph (see details in the\n",
      "        reconstruction cost function)\n",
      "\n",
      "        '''\n",
      "        pre_sigmoid_activation = T.dot(hid, self.W.T) + self.vbias\n",
      "        return [pre_sigmoid_activation, T.nnet.sigmoid(pre_sigmoid_activation)]\n",
      "\n",
      "    def sample_v_given_h(self, h0_sample):\n",
      "        ''' This function infers state of visible units given hidden units '''\n",
      "        # compute the activation of the visible given the hidden sample\n",
      "        pre_sigmoid_v1, v1_mean = self.propdown(h0_sample)\n",
      "        # get a sample of the visible given their activation\n",
      "        # Note that theano_rng.binomial returns a symbolic sample of dtype\n",
      "        # int64 by default. If we want to keep our computations in floatX\n",
      "        # for the GPU we need to specify to return the dtype floatX\n",
      "        v1_sample = self.theano_rng.binomial(size=v1_mean.shape,\n",
      "                                             n=1, p=v1_mean,\n",
      "                                             dtype=theano.config.floatX)\n",
      "        return [pre_sigmoid_v1, v1_mean, v1_sample]\n",
      "\n",
      "    def gibbs_hvh(self, h0_sample):\n",
      "        ''' This function implements one step of Gibbs sampling,\n",
      "            starting from the hidden state'''\n",
      "        pre_sigmoid_v1, v1_mean, v1_sample = self.sample_v_given_h(h0_sample)\n",
      "        pre_sigmoid_h1, h1_mean, h1_sample = self.sample_h_given_v(v1_sample)\n",
      "        return [pre_sigmoid_v1, v1_mean, v1_sample,\n",
      "                pre_sigmoid_h1, h1_mean, h1_sample]\n",
      "\n",
      "    def gibbs_vhv(self, v0_sample):\n",
      "        ''' This function implements one step of Gibbs sampling,\n",
      "            starting from the visible state'''\n",
      "        pre_sigmoid_h1, h1_mean, h1_sample = self.sample_h_given_v(v0_sample)\n",
      "        pre_sigmoid_v1, v1_mean, v1_sample = self.sample_v_given_h(h1_sample)\n",
      "        return [pre_sigmoid_h1, h1_mean, h1_sample,\n",
      "                pre_sigmoid_v1, v1_mean, v1_sample]\n",
      "\n",
      "    def get_cost_updates(self, lr=0.1, persistent=None, k=1):\n",
      "        \"\"\"This functions implements one step of CD-k or PCD-k\n",
      "\n",
      "        :param lr: learning rate used to train the RBM\n",
      "\n",
      "        :param persistent: None for CD. For PCD, shared variable\n",
      "            containing old state of Gibbs chain. This must be a shared\n",
      "            variable of size (batch size, number of hidden units).\n",
      "\n",
      "        :param k: number of Gibbs steps to do in CD-k/PCD-k\n",
      "\n",
      "        Returns a proxy for the cost and the updates dictionary. The\n",
      "        dictionary contains the update rules for weights and biases but\n",
      "        also an update of the shared variable used to store the persistent\n",
      "        chain, if one is used.\n",
      "\n",
      "        \"\"\"\n",
      "\n",
      "        # compute positive phase\n",
      "        pre_sigmoid_ph, ph_mean, ph_sample = self.sample_h_given_v(self.input)\n",
      "\n",
      "        # decide how to initialize persistent chain:\n",
      "        # for CD, we use the newly generate hidden sample\n",
      "        # for PCD, we initialize from the old state of the chain\n",
      "        if persistent is None:\n",
      "            chain_start = ph_sample\n",
      "        else:\n",
      "            chain_start = persistent\n",
      "\n",
      "        # perform actual negative phase\n",
      "        # in order to implement CD-k/PCD-k we need to scan over the\n",
      "        # function that implements one gibbs step k times.\n",
      "        # Read Theano tutorial on scan for more information :\n",
      "        # http://deeplearning.net/software/theano/library/scan.html\n",
      "        # the scan will return the entire Gibbs chain\n",
      "        [pre_sigmoid_nvs, nv_means, nv_samples,\n",
      "         pre_sigmoid_nhs, nh_means, nh_samples], updates = \\\n",
      "            theano.scan(self.gibbs_hvh,\n",
      "                    # the None are place holders, saying that\n",
      "                    # chain_start is the initial state corresponding to the\n",
      "                    # 6th output\n",
      "                    outputs_info=[None,  None,  None, None, None, chain_start],\n",
      "                    n_steps=k)\n",
      "\n",
      "        # determine gradients on RBM parameters\n",
      "        # not that we only need the sample at the end of the chain\n",
      "        chain_end = nv_samples[-1]\n",
      "\n",
      "        cost = T.mean(self.free_energy(self.input)) - T.mean(\n",
      "            self.free_energy(chain_end))\n",
      "        # We must not compute the gradient through the gibbs sampling\n",
      "        gparams = T.grad(cost, self.params, consider_constant=[chain_end])\n",
      "\n",
      "        # constructs the update dictionary\n",
      "        for gparam, param in zip(gparams, self.params):\n",
      "            # make sure that the learning rate is of the right dtype\n",
      "            updates[param] = param - gparam * T.cast(lr,\n",
      "                                                    dtype=theano.config.floatX)\n",
      "        if persistent:\n",
      "            # Note that this works only if persistent is a shared variable\n",
      "            updates[persistent] = nh_samples[-1]\n",
      "            # pseudo-likelihood is a better proxy for PCD\n",
      "            monitoring_cost = self.get_pseudo_likelihood_cost(updates)\n",
      "        else:\n",
      "            # reconstruction cross-entropy is a better proxy for CD\n",
      "            monitoring_cost = self.get_reconstruction_cost(updates,\n",
      "                                                           pre_sigmoid_nvs[-1])\n",
      "\n",
      "        return monitoring_cost, updates\n",
      "\n",
      "    def get_pseudo_likelihood_cost(self, updates):\n",
      "        \"\"\"Stochastic approximation to the pseudo-likelihood\"\"\"\n",
      "\n",
      "        # index of bit i in expression p(x_i | x_{\\i})\n",
      "        bit_i_idx = theano.shared(value=0, name='bit_i_idx')\n",
      "\n",
      "        # binarize the input image by rounding to nearest integer\n",
      "        xi = T.round(self.input)\n",
      "\n",
      "        # calculate free energy for the given bit configuration\n",
      "        fe_xi = self.free_energy(xi)\n",
      "\n",
      "        # flip bit x_i of matrix xi and preserve all other bits x_{\\i}\n",
      "        # Equivalent to xi[:,bit_i_idx] = 1-xi[:, bit_i_idx], but assigns\n",
      "        # the result to xi_flip, instead of working in place on xi.\n",
      "        xi_flip = T.set_subtensor(xi[:, bit_i_idx], 1 - xi[:, bit_i_idx])\n",
      "\n",
      "        # calculate free energy with bit flipped\n",
      "        fe_xi_flip = self.free_energy(xi_flip)\n",
      "\n",
      "        # equivalent to e^(-FE(x_i)) / (e^(-FE(x_i)) + e^(-FE(x_{\\i})))\n",
      "        cost = T.mean(self.n_visible * T.log(T.nnet.sigmoid(fe_xi_flip -\n",
      "                                                            fe_xi)))\n",
      "\n",
      "        # increment bit_i_idx % number as part of updates\n",
      "        updates[bit_i_idx] = (bit_i_idx + 1) % self.n_visible\n",
      "\n",
      "        return cost\n",
      "\n",
      "    def get_reconstruction_cost(self, updates, pre_sigmoid_nv):\n",
      "        \"\"\"Approximation to the reconstruction error\n",
      "\n",
      "        Note that this function requires the pre-sigmoid activation as\n",
      "        input.  To understand why this is so you need to understand a\n",
      "        bit about how Theano works. Whenever you compile a Theano\n",
      "        function, the computational graph that you pass as input gets\n",
      "        optimized for speed and stability.  This is done by changing\n",
      "        several parts of the subgraphs with others.  One such\n",
      "        optimization expresses terms of the form log(sigmoid(x)) in\n",
      "        terms of softplus.  We need this optimization for the\n",
      "        cross-entropy since sigmoid of numbers larger than 30. (or\n",
      "        even less then that) turn to 1. and numbers smaller thans\\\n",
      "        -30. turn to 0 which in terms will force theano to compute\n",
      "        log(0) and therefore we will get either -inf or NaN as\n",
      "        cost. If the value is expressed in terms of softplus we do not\n",
      "        get this undesirable behaviour. This optimization usually\n",
      "        works fine, but here we have a special case. The sigmoid is\n",
      "        applied inside the scan op, while the log is\n",
      "        outside. Therefore Theano will only see log(scan(..)) instead\n",
      "        of log(sigmoid(..)) and will not apply the wanted\n",
      "        optimization. We can not go and replace the sigmoid in scan\n",
      "        with something else also, because this only needs to be done\n",
      "        on the last step. Therefore the easiest and more efficient way\n",
      "        is to get also the pre-sigmoid activation as an output of\n",
      "        scan, and apply both the log and sigmoid outside scan such\n",
      "        that Theano can catch and optimize the expression.\n",
      "\n",
      "        \"\"\"\n",
      "\n",
      "        cross_entropy = T.mean(\n",
      "                T.sum(self.input * T.log(T.nnet.sigmoid(pre_sigmoid_nv)) +\n",
      "                (1 - self.input) * T.log(1 - T.nnet.sigmoid(pre_sigmoid_nv)),\n",
      "                      axis=1))\n",
      "\n",
      "        return cross_entropy"
     ],
     "language": "python",
     "metadata": {},
     "outputs": [],
     "prompt_number": 4
    },
    {
     "cell_type": "code",
     "collapsed": false,
     "input": [
      "raw_patches.shape"
     ],
     "language": "python",
     "metadata": {},
     "outputs": [
      {
       "metadata": {},
       "output_type": "pyout",
       "prompt_number": 5,
       "text": [
        "(12000, 7, 7)"
       ]
      }
     ],
     "prompt_number": 5
    },
    {
     "cell_type": "code",
     "collapsed": false,
     "input": [
      "    %paste\n",
      "    learning_rate=0.1\n",
      "    training_epochs=100\n",
      "    dataset='/Users/jiajunshen/Documents/Jiajun/Research/Research In Summer and Autumn 2013/DeepLearningTutorials/data/mnist.pkl.gz'\n",
      "    batch_size=20\n",
      "    n_chains=100\n",
      "    n_samples=100\n",
      "    output_folder='rbm_plots'\n",
      "    n_hidden=50\n",
      "    patchSize = 12\n",
      "    \"\"\"\n",
      "    Demonstrate how to train and afterwards sample from it using Theano.\n",
      "\n",
      "    This is demonstrated on MNIST.\n",
      "\n",
      "    :param learning_rate: learning rate used for training the RBM\n",
      "\n",
      "    :param training_epochs: number of epochs used for training\n",
      "\n",
      "    :param dataset: path the the pickled dataset\n",
      "\n",
      "    :param batch_size: size of a batch used to train the RBM\n",
      "\n",
      "    :param n_chains: number of parallel Gibbs chains to be used for sampling\n",
      "\n",
      "    :param n_samples: number of samples to plot for each chain\n",
      "\n",
      "    \"\"\"\n",
      "    datasets = theanoRBM.load_data(dataset)\n",
      "#    theanoRBM.load_data()\n",
      "#    numpy.asarray(trainingData,dtype = theano.config.floatX)\n",
      "    train_set_x = theano.shared(numpy.asarray(raw_patches.reshape(12000,-1),dtype=theano.config.floatX), borrow=True)\n",
      "    #train_set_x, train_set_y = datasets[0]\n",
      "    #test_set_x, test_set_y = datasets[2]\n",
      "\n",
      "    # compute number of minibatches for training, validation and testing\n",
      "    n_train_batches = train_set_x.get_value(borrow=True).shape[0] / batch_size\n",
      "\n",
      "    # allocate symbolic variables for the data\n",
      "    index = T.lscalar()    # index to a [mini]batch\n",
      "    x = T.matrix('x')  # the data is presented as rasterized images\n",
      "\n",
      "    rng = numpy.random.RandomState(123)\n",
      "    theano_rng = RandomStreams(rng.randint(2 ** 30))\n",
      "\n",
      "    # initialize storage for the persistent chain (state = hidden\n",
      "    # layer of chain)\n",
      "    persistent_chain = theano.shared(numpy.zeros((batch_size, n_hidden),\n",
      "                                                 dtype=theano.config.floatX),\n",
      "                                     borrow=True)\n",
      "\n",
      "    # construct the RBM class\n",
      "    rbm = theanoRBM.RBM(input=x, n_visible=patchSize * patchSize,\n",
      "              n_hidden=n_hidden, numpy_rng=rng, theano_rng=theano_rng)\n",
      "\n",
      "    # get the cost and the gradient corresponding to one step of CD-15\n",
      "    cost, updates = rbm.get_cost_updates(lr=learning_rate,\n",
      "                                         persistent=persistent_chain, k=1)\n",
      "\n",
      "    #################################\n",
      "    #     Training the RBM          #\n",
      "    #################################\n",
      "    if not os.path.isdir(output_folder):\n",
      "        os.makedirs(output_folder)\n",
      "    os.chdir(output_folder)\n",
      "\n",
      "    # it is ok for a theano function to have no output\n",
      "    # the purpose of train_rbm is solely to update the RBM parameters\n",
      "    train_rbm = theano.function([index], cost,\n",
      "           updates=updates,\n",
      "           givens={x: train_set_x[index * batch_size:\n",
      "                                  (index + 1) * batch_size]},\n",
      "           name='train_rbm')\n",
      "\n",
      "    plotting_time = 0.\n",
      "    start_time = time.clock()\n",
      "\n",
      "    # go through training epochs\n",
      "    for epoch in xrange(training_epochs):\n",
      "\n",
      "        # go through the training set\n",
      "        mean_cost = []\n",
      "        for batch_index in xrange(n_train_batches):\n",
      "            mean_cost += [train_rbm(batch_index)]\n",
      "\n",
      "        print 'Training epoch %d, cost is ' % epoch, numpy.mean(mean_cost)\n",
      "\n",
      "        # Plot filters after each training epoch\n",
      "        plotting_start = time.clock()\n",
      "        # Construct image from the weight matrix\n",
      "        image = PIL.Image.fromarray(tile_raster_images(\n",
      "                 X=rbm.W.get_value(borrow=True).T,\n",
      "                 img_shape=(patchSize, patchSize), tile_shape=(10, 10),\n",
      "                 tile_spacing=(1, 1)))\n",
      "        image.save('filters_at_epoch_%i.png' % epoch)\n",
      "        plotting_stop = time.clock()\n",
      "        plotting_time += (plotting_stop - plotting_start)\n",
      "\n",
      "    end_time = time.clock()\n",
      "\n",
      "    pretraining_time = (end_time - start_time) - plotting_time\n",
      "\n",
      "    print ('Training took %f minutes' % (pretraining_time / 60.))\n",
      "\n",
      "    #################################\n",
      "    #     Sampling from the RBM     #\n",
      "    #################################\n",
      "    # find out the number of test samples"
     ],
     "language": "python",
     "metadata": {},
     "outputs": [
      {
       "output_type": "stream",
       "stream": "stdout",
       "text": [
        "... loading data\n",
        "(50000,)"
       ]
      },
      {
       "output_type": "stream",
       "stream": "stdout",
       "text": [
        "\n",
        "Training epoch 0, cost is "
       ]
      },
      {
       "output_type": "stream",
       "stream": "stdout",
       "text": [
        " -69.3184244792\n",
        "Training epoch 1, cost is "
       ]
      },
      {
       "output_type": "stream",
       "stream": "stdout",
       "text": [
        " -58.905546875\n",
        "Training epoch 2, cost is "
       ]
      },
      {
       "output_type": "stream",
       "stream": "stdout",
       "text": [
        " -55.7598307292\n",
        "Training epoch 3, cost is "
       ]
      },
      {
       "output_type": "stream",
       "stream": "stdout",
       "text": [
        " -54.1412727865\n",
        "Training epoch 4, cost is "
       ]
      },
      {
       "output_type": "stream",
       "stream": "stdout",
       "text": [
        " -52.7653938802\n",
        "Training epoch 5, cost is "
       ]
      },
      {
       "output_type": "stream",
       "stream": "stdout",
       "text": [
        " -50.8998860677\n",
        "Training epoch 6, cost is "
       ]
      },
      {
       "output_type": "stream",
       "stream": "stdout",
       "text": [
        " -51.2156705729\n",
        "Training epoch 7, cost is "
       ]
      },
      {
       "output_type": "stream",
       "stream": "stdout",
       "text": [
        " -50.0221126302\n",
        "Training epoch 8, cost is "
       ]
      },
      {
       "output_type": "stream",
       "stream": "stdout",
       "text": [
        " -49.5744270833\n",
        "Training epoch 9, cost is "
       ]
      },
      {
       "output_type": "stream",
       "stream": "stdout",
       "text": [
        " -48.6675716146\n",
        "Training epoch 10, cost is "
       ]
      },
      {
       "output_type": "stream",
       "stream": "stdout",
       "text": [
        " -49.067985026\n",
        "Training epoch 11, cost is "
       ]
      },
      {
       "output_type": "stream",
       "stream": "stdout",
       "text": [
        " -47.3938216146\n",
        "Training epoch 12, cost is "
       ]
      },
      {
       "output_type": "stream",
       "stream": "stdout",
       "text": [
        " -48.1953808594\n",
        "Training epoch 13, cost is "
       ]
      },
      {
       "output_type": "stream",
       "stream": "stdout",
       "text": [
        " -47.7952929687\n",
        "Training epoch 14, cost is "
       ]
      },
      {
       "output_type": "stream",
       "stream": "stdout",
       "text": [
        " -46.52421875\n",
        "Training epoch 15, cost is "
       ]
      },
      {
       "output_type": "stream",
       "stream": "stdout",
       "text": [
        " -47.1293782552\n",
        "Training epoch 16, cost is "
       ]
      },
      {
       "output_type": "stream",
       "stream": "stdout",
       "text": [
        " -46.3890364583\n",
        "Training epoch 17, cost is "
       ]
      },
      {
       "output_type": "stream",
       "stream": "stdout",
       "text": [
        " -46.585563151\n",
        "Training epoch 18, cost is "
       ]
      },
      {
       "output_type": "stream",
       "stream": "stdout",
       "text": [
        " -46.3145572917\n",
        "Training epoch 19, cost is "
       ]
      },
      {
       "output_type": "stream",
       "stream": "stdout",
       "text": [
        " -46.1986914062\n",
        "Training epoch 20, cost is "
       ]
      },
      {
       "output_type": "stream",
       "stream": "stdout",
       "text": [
        " -46.5490071615\n",
        "Training epoch 21, cost is "
       ]
      },
      {
       "output_type": "stream",
       "stream": "stdout",
       "text": [
        " -46.3996809896\n",
        "Training epoch 22, cost is "
       ]
      },
      {
       "output_type": "stream",
       "stream": "stdout",
       "text": [
        " -46.2733072917\n",
        "Training epoch 23, cost is "
       ]
      },
      {
       "output_type": "stream",
       "stream": "stdout",
       "text": [
        " -45.5831282552\n",
        "Training epoch 24, cost is "
       ]
      },
      {
       "output_type": "stream",
       "stream": "stdout",
       "text": [
        " -46.3627864583\n",
        "Training epoch 25, cost is "
       ]
      },
      {
       "output_type": "stream",
       "stream": "stdout",
       "text": [
        " -46.0975358073\n",
        "Training epoch 26, cost is "
       ]
      },
      {
       "output_type": "stream",
       "stream": "stdout",
       "text": [
        " -46.0956445313\n",
        "Training epoch 27, cost is "
       ]
      },
      {
       "output_type": "stream",
       "stream": "stdout",
       "text": [
        " -45.9636295573\n",
        "Training epoch 28, cost is "
       ]
      },
      {
       "output_type": "stream",
       "stream": "stdout",
       "text": [
        " -45.2847884115\n",
        "Training epoch 29, cost is "
       ]
      },
      {
       "output_type": "stream",
       "stream": "stdout",
       "text": [
        " -45.0264550781\n",
        "Training epoch 30, cost is "
       ]
      },
      {
       "output_type": "stream",
       "stream": "stdout",
       "text": [
        " -45.0716503906\n",
        "Training epoch 31, cost is "
       ]
      },
      {
       "output_type": "stream",
       "stream": "stdout",
       "text": [
        " -45.2592675781\n",
        "Training epoch 32, cost is "
       ]
      },
      {
       "output_type": "stream",
       "stream": "stdout",
       "text": [
        " -45.3884375\n",
        "Training epoch 33, cost is "
       ]
      },
      {
       "output_type": "stream",
       "stream": "stdout",
       "text": [
        " -45.5009505208\n",
        "Training epoch 34, cost is "
       ]
      },
      {
       "output_type": "stream",
       "stream": "stdout",
       "text": [
        " -45.689140625\n",
        "Training epoch 35, cost is "
       ]
      },
      {
       "output_type": "stream",
       "stream": "stdout",
       "text": [
        " -45.0691080729\n",
        "Training epoch 36, cost is "
       ]
      },
      {
       "output_type": "stream",
       "stream": "stdout",
       "text": [
        " -45.4315039063\n",
        "Training epoch 37, cost is "
       ]
      },
      {
       "output_type": "stream",
       "stream": "stdout",
       "text": [
        " -44.7954329427\n",
        "Training epoch 38, cost is "
       ]
      },
      {
       "output_type": "stream",
       "stream": "stdout",
       "text": [
        " -44.626171875\n",
        "Training epoch 39, cost is "
       ]
      },
      {
       "output_type": "stream",
       "stream": "stdout",
       "text": [
        " -45.0794563802\n",
        "Training epoch 40, cost is "
       ]
      },
      {
       "output_type": "stream",
       "stream": "stdout",
       "text": [
        " -44.4477148437\n",
        "Training epoch 41, cost is "
       ]
      },
      {
       "output_type": "stream",
       "stream": "stdout",
       "text": [
        " -45.1343391927\n",
        "Training epoch 42, cost is "
       ]
      },
      {
       "output_type": "stream",
       "stream": "stdout",
       "text": [
        " -44.8649316406\n",
        "Training epoch 43, cost is "
       ]
      },
      {
       "output_type": "stream",
       "stream": "stdout",
       "text": [
        " -44.8760970052\n",
        "Training epoch 44, cost is "
       ]
      },
      {
       "output_type": "stream",
       "stream": "stdout",
       "text": [
        " -43.8630891927\n",
        "Training epoch 45, cost is "
       ]
      },
      {
       "output_type": "stream",
       "stream": "stdout",
       "text": [
        " -45.1799121094\n",
        "Training epoch 46, cost is "
       ]
      },
      {
       "output_type": "stream",
       "stream": "stdout",
       "text": [
        " -45.1880110677\n",
        "Training epoch 47, cost is "
       ]
      },
      {
       "output_type": "stream",
       "stream": "stdout",
       "text": [
        " -44.0994563802\n",
        "Training epoch 48, cost is "
       ]
      },
      {
       "output_type": "stream",
       "stream": "stdout",
       "text": [
        " -44.5924641927\n",
        "Training epoch 49, cost is "
       ]
      },
      {
       "output_type": "stream",
       "stream": "stdout",
       "text": [
        " -44.70765625\n",
        "Training epoch 50, cost is "
       ]
      },
      {
       "output_type": "stream",
       "stream": "stdout",
       "text": [
        " -44.3988509115\n",
        "Training epoch 51, cost is "
       ]
      },
      {
       "output_type": "stream",
       "stream": "stdout",
       "text": [
        " -45.4239355469\n",
        "Training epoch 52, cost is "
       ]
      },
      {
       "output_type": "stream",
       "stream": "stdout",
       "text": [
        " -45.2680371094\n",
        "Training epoch 53, cost is "
       ]
      },
      {
       "output_type": "stream",
       "stream": "stdout",
       "text": [
        " -44.3957356771\n",
        "Training epoch 54, cost is "
       ]
      },
      {
       "output_type": "stream",
       "stream": "stdout",
       "text": [
        " -44.8255924479\n",
        "Training epoch 55, cost is "
       ]
      },
      {
       "output_type": "stream",
       "stream": "stdout",
       "text": [
        " -43.9373404948\n",
        "Training epoch 56, cost is "
       ]
      },
      {
       "output_type": "stream",
       "stream": "stdout",
       "text": [
        " -44.2569401042\n",
        "Training epoch 57, cost is "
       ]
      },
      {
       "output_type": "stream",
       "stream": "stdout",
       "text": [
        " -44.5143424479\n",
        "Training epoch 58, cost is "
       ]
      },
      {
       "output_type": "stream",
       "stream": "stdout",
       "text": [
        " -44.896656901\n",
        "Training epoch 59, cost is "
       ]
      },
      {
       "output_type": "stream",
       "stream": "stdout",
       "text": [
        " -44.314703776\n",
        "Training epoch 60, cost is "
       ]
      },
      {
       "output_type": "stream",
       "stream": "stdout",
       "text": [
        " -45.2401464844\n",
        "Training epoch 61, cost is "
       ]
      },
      {
       "output_type": "stream",
       "stream": "stdout",
       "text": [
        " -44.2864550781\n",
        "Training epoch 62, cost is "
       ]
      },
      {
       "output_type": "stream",
       "stream": "stdout",
       "text": [
        " -43.2404166667\n",
        "Training epoch 63, cost is "
       ]
      },
      {
       "output_type": "stream",
       "stream": "stdout",
       "text": [
        " -44.9660416667\n",
        "Training epoch 64, cost is "
       ]
      },
      {
       "output_type": "stream",
       "stream": "stdout",
       "text": [
        " -44.4776009115\n",
        "Training epoch 65, cost is "
       ]
      },
      {
       "output_type": "stream",
       "stream": "stdout",
       "text": [
        " -44.144469401\n",
        "Training epoch 66, cost is "
       ]
      },
      {
       "output_type": "stream",
       "stream": "stdout",
       "text": [
        " -44.541813151\n",
        "Training epoch 67, cost is "
       ]
      },
      {
       "output_type": "stream",
       "stream": "stdout",
       "text": [
        " -45.2258365885\n",
        "Training epoch 68, cost is "
       ]
      },
      {
       "output_type": "stream",
       "stream": "stdout",
       "text": [
        " -43.7660904948\n",
        "Training epoch 69, cost is "
       ]
      },
      {
       "output_type": "stream",
       "stream": "stdout",
       "text": [
        " -44.0267708333\n",
        "Training epoch 70, cost is "
       ]
      },
      {
       "output_type": "stream",
       "stream": "stdout",
       "text": [
        " -44.4229101562\n",
        "Training epoch 71, cost is "
       ]
      },
      {
       "output_type": "stream",
       "stream": "stdout",
       "text": [
        " -43.9368652344\n",
        "Training epoch 72, cost is "
       ]
      },
      {
       "output_type": "stream",
       "stream": "stdout",
       "text": [
        " -44.5844563802\n",
        "Training epoch 73, cost is "
       ]
      },
      {
       "output_type": "stream",
       "stream": "stdout",
       "text": [
        " -44.6180924479\n",
        "Training epoch 74, cost is "
       ]
      },
      {
       "output_type": "stream",
       "stream": "stdout",
       "text": [
        " -43.6848990885\n",
        "Training epoch 75, cost is "
       ]
      },
      {
       "output_type": "stream",
       "stream": "stdout",
       "text": [
        " -43.9047102865\n",
        "Training epoch 76, cost is "
       ]
      },
      {
       "output_type": "stream",
       "stream": "stdout",
       "text": [
        " -44.4993359375\n",
        "Training epoch 77, cost is "
       ]
      },
      {
       "output_type": "stream",
       "stream": "stdout",
       "text": [
        " -43.2605013021\n",
        "Training epoch 78, cost is "
       ]
      },
      {
       "output_type": "stream",
       "stream": "stdout",
       "text": [
        " -44.7778841146\n",
        "Training epoch 79, cost is "
       ]
      },
      {
       "output_type": "stream",
       "stream": "stdout",
       "text": [
        " -43.6359049479\n",
        "Training epoch 80, cost is "
       ]
      },
      {
       "output_type": "stream",
       "stream": "stdout",
       "text": [
        " -43.6869986979\n",
        "Training epoch 81, cost is "
       ]
      },
      {
       "output_type": "stream",
       "stream": "stdout",
       "text": [
        " -44.606936849\n",
        "Training epoch 82, cost is "
       ]
      },
      {
       "output_type": "stream",
       "stream": "stdout",
       "text": [
        " -44.396344401\n",
        "Training epoch 83, cost is "
       ]
      },
      {
       "output_type": "stream",
       "stream": "stdout",
       "text": [
        " -43.1224967448\n",
        "Training epoch 84, cost is "
       ]
      },
      {
       "output_type": "stream",
       "stream": "stdout",
       "text": [
        " -44.1198925781\n",
        "Training epoch 85, cost is "
       ]
      },
      {
       "output_type": "stream",
       "stream": "stdout",
       "text": [
        " -43.7551236979\n",
        "Training epoch 86, cost is "
       ]
      },
      {
       "output_type": "stream",
       "stream": "stdout",
       "text": [
        " -43.9957063802\n",
        "Training epoch 87, cost is "
       ]
      },
      {
       "output_type": "stream",
       "stream": "stdout",
       "text": [
        " -44.616077474\n",
        "Training epoch 88, cost is "
       ]
      },
      {
       "output_type": "stream",
       "stream": "stdout",
       "text": [
        " -43.8160221354\n",
        "Training epoch 89, cost is "
       ]
      },
      {
       "output_type": "stream",
       "stream": "stdout",
       "text": [
        " -43.8225455729\n",
        "Training epoch 90, cost is "
       ]
      },
      {
       "output_type": "stream",
       "stream": "stdout",
       "text": [
        " -44.5859277344\n",
        "Training epoch 91, cost is "
       ]
      },
      {
       "output_type": "stream",
       "stream": "stdout",
       "text": [
        " -43.6843977865\n",
        "Training epoch 92, cost is "
       ]
      },
      {
       "output_type": "stream",
       "stream": "stdout",
       "text": [
        " -43.5577669271\n",
        "Training epoch 93, cost is "
       ]
      },
      {
       "output_type": "stream",
       "stream": "stdout",
       "text": [
        " -43.9218489583\n",
        "Training epoch 94, cost is "
       ]
      },
      {
       "output_type": "stream",
       "stream": "stdout",
       "text": [
        " -44.7672363281\n",
        "Training epoch 95, cost is "
       ]
      },
      {
       "output_type": "stream",
       "stream": "stdout",
       "text": [
        " -43.8571614583\n",
        "Training epoch 96, cost is "
       ]
      },
      {
       "output_type": "stream",
       "stream": "stdout",
       "text": [
        " -44.4791210938\n",
        "Training epoch 97, cost is "
       ]
      },
      {
       "output_type": "stream",
       "stream": "stdout",
       "text": [
        " -43.8224283854\n",
        "Training epoch 98, cost is "
       ]
      },
      {
       "output_type": "stream",
       "stream": "stdout",
       "text": [
        " -43.2727734375\n",
        "Training epoch 99, cost is "
       ]
      },
      {
       "output_type": "stream",
       "stream": "stdout",
       "text": [
        " -43.7019075521\n",
        "Training took 1.099159 minutes\n"
       ]
      },
      {
       "output_type": "stream",
       "stream": "stderr",
       "text": [
        "ERROR: Line magic function `%paste` not found.\n"
       ]
      }
     ],
     "prompt_number": 12
    },
    {
     "cell_type": "code",
     "collapsed": false,
     "input": [
      "weights = np.array(rbm.W.get_value(borrow=True))\n",
      "newWeights = np.rollaxis(weights,1,0)\n",
      "import amitgroup.plot as gr\n",
      "gr.images(newWeights[0:50].reshape(50,patchSize,patchSize),zero_to_one = False, vmin = -2, vmax = 2, show = True)"
     ],
     "language": "python",
     "metadata": {},
     "outputs": [
      {
       "ename": "NameError",
       "evalue": "name 'rbm' is not defined",
       "output_type": "pyerr",
       "traceback": [
        "\u001b[0;31m---------------------------------------------------------------------------\u001b[0m\n\u001b[0;31mNameError\u001b[0m                                 Traceback (most recent call last)",
        "\u001b[0;32m<ipython-input-4-421a306c28b7>\u001b[0m in \u001b[0;36m<module>\u001b[0;34m()\u001b[0m\n\u001b[0;32m----> 1\u001b[0;31m \u001b[0mweights\u001b[0m \u001b[0;34m=\u001b[0m \u001b[0mnp\u001b[0m\u001b[0;34m.\u001b[0m\u001b[0marray\u001b[0m\u001b[0;34m(\u001b[0m\u001b[0mrbm\u001b[0m\u001b[0;34m.\u001b[0m\u001b[0mW\u001b[0m\u001b[0;34m.\u001b[0m\u001b[0mget_value\u001b[0m\u001b[0;34m(\u001b[0m\u001b[0mborrow\u001b[0m\u001b[0;34m=\u001b[0m\u001b[0mTrue\u001b[0m\u001b[0;34m)\u001b[0m\u001b[0;34m)\u001b[0m\u001b[0;34m\u001b[0m\u001b[0m\n\u001b[0m\u001b[1;32m      2\u001b[0m \u001b[0mnewWeights\u001b[0m \u001b[0;34m=\u001b[0m \u001b[0mnp\u001b[0m\u001b[0;34m.\u001b[0m\u001b[0mrollaxis\u001b[0m\u001b[0;34m(\u001b[0m\u001b[0mweights\u001b[0m\u001b[0;34m,\u001b[0m\u001b[0;36m1\u001b[0m\u001b[0;34m,\u001b[0m\u001b[0;36m0\u001b[0m\u001b[0;34m)\u001b[0m\u001b[0;34m\u001b[0m\u001b[0m\n\u001b[1;32m      3\u001b[0m \u001b[0;32mimport\u001b[0m \u001b[0mamitgroup\u001b[0m\u001b[0;34m.\u001b[0m\u001b[0mplot\u001b[0m \u001b[0;32mas\u001b[0m \u001b[0mgr\u001b[0m\u001b[0;34m\u001b[0m\u001b[0m\n\u001b[1;32m      4\u001b[0m \u001b[0mgr\u001b[0m\u001b[0;34m.\u001b[0m\u001b[0mimages\u001b[0m\u001b[0;34m(\u001b[0m\u001b[0mnewWeights\u001b[0m\u001b[0;34m[\u001b[0m\u001b[0;36m0\u001b[0m\u001b[0;34m:\u001b[0m\u001b[0;36m50\u001b[0m\u001b[0;34m]\u001b[0m\u001b[0;34m.\u001b[0m\u001b[0mreshape\u001b[0m\u001b[0;34m(\u001b[0m\u001b[0;36m50\u001b[0m\u001b[0;34m,\u001b[0m\u001b[0mpatchSize\u001b[0m\u001b[0;34m,\u001b[0m\u001b[0mpatchSize\u001b[0m\u001b[0;34m)\u001b[0m\u001b[0;34m,\u001b[0m\u001b[0mzero_to_one\u001b[0m \u001b[0;34m=\u001b[0m \u001b[0mFalse\u001b[0m\u001b[0;34m,\u001b[0m \u001b[0mvmin\u001b[0m \u001b[0;34m=\u001b[0m \u001b[0;34m-\u001b[0m\u001b[0;36m2\u001b[0m\u001b[0;34m,\u001b[0m \u001b[0mvmax\u001b[0m \u001b[0;34m=\u001b[0m \u001b[0;36m2\u001b[0m\u001b[0;34m,\u001b[0m \u001b[0mshow\u001b[0m \u001b[0;34m=\u001b[0m \u001b[0mTrue\u001b[0m\u001b[0;34m)\u001b[0m\u001b[0;34m\u001b[0m\u001b[0m\n",
        "\u001b[0;31mNameError\u001b[0m: name 'rbm' is not defined"
       ]
      }
     ],
     "prompt_number": 4
    },
    {
     "cell_type": "code",
     "collapsed": false,
     "input": [
      "from sklearn.neural_network import BernoulliRBM\n",
      "fitData = raw_patches.reshape(12000,-1)\n",
      "model = BernoulliRBM(n_components=50,learning_rate = 0.1, n_iter = 15,verbose=True)\n",
      "model.fit(fitData)"
     ],
     "language": "python",
     "metadata": {},
     "outputs": [
      {
       "output_type": "stream",
       "stream": "stdout",
       "text": [
        "Iteration 0, pseudo-likelihood = -22.75, time = 0.67s\n",
        "Iteration 1, pseudo-likelihood = -18.26, time = 0.63s"
       ]
      },
      {
       "output_type": "stream",
       "stream": "stdout",
       "text": [
        "\n",
        "Iteration 2, pseudo-likelihood = -16.90, time = 0.64s"
       ]
      },
      {
       "output_type": "stream",
       "stream": "stdout",
       "text": [
        "\n",
        "Iteration 3, pseudo-likelihood = -16.36, time = 0.64s"
       ]
      },
      {
       "output_type": "stream",
       "stream": "stdout",
       "text": [
        "\n",
        "Iteration 4, pseudo-likelihood = -15.98, time = 0.64s"
       ]
      },
      {
       "output_type": "stream",
       "stream": "stdout",
       "text": [
        "\n",
        "Iteration 5, pseudo-likelihood = -15.89, time = 0.64s"
       ]
      },
      {
       "output_type": "stream",
       "stream": "stdout",
       "text": [
        "\n",
        "Iteration 6, pseudo-likelihood = -15.86, time = 0.67s"
       ]
      },
      {
       "output_type": "stream",
       "stream": "stdout",
       "text": [
        "\n",
        "Iteration 7, pseudo-likelihood = -15.77, time = 0.67s"
       ]
      },
      {
       "output_type": "stream",
       "stream": "stdout",
       "text": [
        "\n",
        "Iteration 8, pseudo-likelihood = -15.50, time = 0.64s"
       ]
      },
      {
       "output_type": "stream",
       "stream": "stdout",
       "text": [
        "\n",
        "Iteration 9, pseudo-likelihood = -15.59, time = 0.64s"
       ]
      },
      {
       "output_type": "stream",
       "stream": "stdout",
       "text": [
        "\n",
        "Iteration 10, pseudo-likelihood = -15.39, time = 0.64s"
       ]
      },
      {
       "output_type": "stream",
       "stream": "stdout",
       "text": [
        "\n",
        "Iteration 11, pseudo-likelihood = -15.27, time = 0.63s"
       ]
      },
      {
       "output_type": "stream",
       "stream": "stdout",
       "text": [
        "\n",
        "Iteration 12, pseudo-likelihood = -15.49, time = 0.66s"
       ]
      },
      {
       "output_type": "stream",
       "stream": "stdout",
       "text": [
        "\n",
        "Iteration 13, pseudo-likelihood = -15.34, time = 0.65s"
       ]
      },
      {
       "output_type": "stream",
       "stream": "stdout",
       "text": [
        "\n",
        "Iteration 14, pseudo-likelihood = -15.61, time = 0.68s"
       ]
      },
      {
       "output_type": "stream",
       "stream": "stdout",
       "text": [
        "\n"
       ]
      },
      {
       "metadata": {},
       "output_type": "pyout",
       "prompt_number": 6,
       "text": [
        "BernoulliRBM(batch_size=10, learning_rate=0.1, n_components=50, n_iter=15,\n",
        "       random_state=None, verbose=True)"
       ]
      }
     ],
     "prompt_number": 6
    },
    {
     "cell_type": "code",
     "collapsed": false,
     "input": [
      "gr.images(model.components_.reshape(50,7,7),zero_to_one = False, vmin = -2, vmax = 2)"
     ],
     "language": "python",
     "metadata": {},
     "outputs": [
      {
       "metadata": {},
       "output_type": "display_data",
       "png": "[encoded data removed]",
       "text": [
        "<matplotlib.figure.Figure at 0x117863250>"
       ]
      }
     ],
     "prompt_number": 8
    },
    {
     "cell_type": "code",
     "collapsed": false,
     "input": [
      "rbmLocal = scikitRBM.BernoulliRBM(n_components = 50, learning_rate = 0.1, batch_size = 10, n_iter = 15, verbose=True, getNum = 1)"
     ],
     "language": "python",
     "metadata": {},
     "outputs": [],
     "prompt_number": 99
    },
    {
     "cell_type": "code",
     "collapsed": false,
     "input": [
      "posterList = np.zeros(rbmLocal.n_iter)\n",
      "fitData = raw_patches. reshape(raw_patches.shape[0], -1)\n",
      "#fitData = images.reshape(1200,-1)\n",
      "rbmLocal.fit(fitData, winnerTakeAll=False,plList = posterList)"
     ],
     "language": "python",
     "metadata": {},
     "outputs": [
      {
       "output_type": "stream",
       "stream": "stdout",
       "text": [
        "Iteration 0, pseudo-likelihood = -13.71, time = 0.70s\n",
        "Iteration 1, pseudo-likelihood = -10.17, time = 0.68s"
       ]
      },
      {
       "output_type": "stream",
       "stream": "stdout",
       "text": [
        "\n",
        "Iteration 2, pseudo-likelihood = -9.41, time = 0.69s"
       ]
      },
      {
       "output_type": "stream",
       "stream": "stdout",
       "text": [
        "\n",
        "Iteration 3, pseudo-likelihood = -9.23, time = 0.69s"
       ]
      },
      {
       "output_type": "stream",
       "stream": "stdout",
       "text": [
        "\n",
        "Iteration 4, pseudo-likelihood = -9.18, time = 0.68s"
       ]
      },
      {
       "output_type": "stream",
       "stream": "stdout",
       "text": [
        "\n",
        "Iteration 5, pseudo-likelihood = -9.06, time = 0.68s"
       ]
      },
      {
       "output_type": "stream",
       "stream": "stdout",
       "text": [
        "\n",
        "Iteration 6, pseudo-likelihood = -8.94, time = 0.69s"
       ]
      },
      {
       "output_type": "stream",
       "stream": "stdout",
       "text": [
        "\n",
        "Iteration 7, pseudo-likelihood = -9.06, time = 0.69s"
       ]
      },
      {
       "output_type": "stream",
       "stream": "stdout",
       "text": [
        "\n",
        "Iteration 8, pseudo-likelihood = -9.01, time = 0.68s"
       ]
      },
      {
       "output_type": "stream",
       "stream": "stdout",
       "text": [
        "\n",
        "Iteration 9, pseudo-likelihood = -9.05, time = 0.68s"
       ]
      },
      {
       "output_type": "stream",
       "stream": "stdout",
       "text": [
        "\n",
        "Iteration 10, pseudo-likelihood = -8.95, time = 0.69s"
       ]
      },
      {
       "output_type": "stream",
       "stream": "stdout",
       "text": [
        "\n",
        "Iteration 11, pseudo-likelihood = -8.87, time = 0.69s"
       ]
      },
      {
       "output_type": "stream",
       "stream": "stdout",
       "text": [
        "\n",
        "Iteration 12, pseudo-likelihood = -8.90, time = 0.69s"
       ]
      },
      {
       "output_type": "stream",
       "stream": "stdout",
       "text": [
        "\n",
        "Iteration 13, pseudo-likelihood = -8.92, time = 0.69s"
       ]
      },
      {
       "output_type": "stream",
       "stream": "stdout",
       "text": [
        "\n",
        "Iteration 14, pseudo-likelihood = -8.89, time = 0.71s"
       ]
      },
      {
       "output_type": "stream",
       "stream": "stdout",
       "text": [
        "\n"
       ]
      },
      {
       "metadata": {},
       "output_type": "pyout",
       "prompt_number": 100,
       "text": [
        "BernoulliRBM(batch_size=10, getNum=1, learning_rate=0.1, n_components=50,\n",
        "       n_iter=15, random_state=None, verbose=True)"
       ]
      }
     ],
     "prompt_number": 100
    },
    {
     "cell_type": "code",
     "collapsed": false,
     "input": [
      "patchSize = 5\n",
      "rbmLocal.components_ = rbmLocal.components_.mean() - rbmLocal.components_\n",
      "gr.images(rbmLocal.components_.reshape(50,patchSize,patchSize),zero_to_one = False, vmin = -2, vmax = 2)\n"
     ],
     "language": "python",
     "metadata": {},
     "outputs": [
      {
       "metadata": {},
       "output_type": "display_data",
       "png": "[encoded data removed]",
       "text": [
        "<matplotlib.figure.Figure at 0x119fb0ad0>"
       ]
      }
     ],
     "prompt_number": 105
    },
    {
     "cell_type": "code",
     "collapsed": false,
     "input": [
      "from sklearn.utils import check_random_state\n",
      "rng = check_random_state(rbmLocal.random_state)\n",
      "rbmLocal._sample_hiddens(raw_patches[0:5].reshape(5,-1),rng).shape"
     ],
     "language": "python",
     "metadata": {},
     "outputs": [
      {
       "metadata": {},
       "output_type": "pyout",
       "prompt_number": 22,
       "text": [
        "(5, 50)"
       ]
      }
     ],
     "prompt_number": 22
    },
    {
     "cell_type": "code",
     "collapsed": false,
     "input": [
      "test.shape"
     ],
     "language": "python",
     "metadata": {},
     "outputs": [
      {
       "ename": "AttributeError",
       "evalue": "'function' object has no attribute 'shape'",
       "output_type": "pyerr",
       "traceback": [
        "\u001b[0;31m---------------------------------------------------------------------------\u001b[0m\n\u001b[0;31mAttributeError\u001b[0m                            Traceback (most recent call last)",
        "\u001b[0;32m<ipython-input-8-3de001cc2de6>\u001b[0m in \u001b[0;36m<module>\u001b[0;34m()\u001b[0m\n\u001b[0;32m----> 1\u001b[0;31m \u001b[0mtest\u001b[0m\u001b[0;34m.\u001b[0m\u001b[0mshape\u001b[0m\u001b[0;34m\u001b[0m\u001b[0m\n\u001b[0m",
        "\u001b[0;31mAttributeError\u001b[0m: 'function' object has no attribute 'shape'"
       ]
      }
     ],
     "prompt_number": 8
    },
    {
     "cell_type": "code",
     "collapsed": false,
     "input": [
      "testImages,tlbs = mn.load_mnist('testing',digits,'../data/',False,slice(0,1000),True,False)"
     ],
     "language": "python",
     "metadata": {},
     "outputs": [],
     "prompt_number": 10
    },
    {
     "cell_type": "code",
     "collapsed": false,
     "input": [
      "testImages.shape"
     ],
     "language": "python",
     "metadata": {},
     "outputs": [
      {
       "metadata": {},
       "output_type": "pyout",
       "prompt_number": 11,
       "text": [
        "(1000, 28, 28)"
       ]
      }
     ],
     "prompt_number": 11
    },
    {
     "cell_type": "code",
     "collapsed": false,
     "input": [
      "patchSize = 5\n",
      "def codeHiddenVector(image,hiddenNodeNum):\n",
      "    totalRange = image.shape[1] - patchSize + 1\n",
      "    hiddenVector = np.zeros((totalRange * totalRange,hiddenNodeNum),dtype=uint8)\n",
      "    localPatch = np.zeros((totalRange,totalRange,patchSize * patchSize))\n",
      "    for i in range(totalRange):\n",
      "        for j in range(totalRange):\n",
      "            localPatch[i,j,:] = image[i:i+patchSize,j:j+patchSize].ravel()\n",
      "    localPatch = localPatch.reshape((totalRange * totalRange, patchSize * patchSize))\n",
      "    hiddenVector = rbmLocal._sample_hiddens(localPatch,rng)\n",
      "    #rbmLocal.getNum = 1\n",
      "    #hiddenVector = rbmLocal._sample_hiddens_part(localPatch,rng)\n",
      "    return hiddenVector"
     ],
     "language": "python",
     "metadata": {},
     "outputs": [],
     "prompt_number": 74
    },
    {
     "cell_type": "code",
     "collapsed": false,
     "input": [
      "testData.shape"
     ],
     "language": "python",
     "metadata": {},
     "outputs": [
      {
       "ename": "NameError",
       "evalue": "name 'testData' is not defined",
       "output_type": "pyerr",
       "traceback": [
        "\u001b[0;31m---------------------------------------------------------------------------\u001b[0m\n\u001b[0;31mNameError\u001b[0m                                 Traceback (most recent call last)",
        "\u001b[0;32m<ipython-input-24-0e16aa5422b2>\u001b[0m in \u001b[0;36m<module>\u001b[0;34m()\u001b[0m\n\u001b[0;32m----> 1\u001b[0;31m \u001b[0mtestData\u001b[0m\u001b[0;34m.\u001b[0m\u001b[0mshape\u001b[0m\u001b[0;34m\u001b[0m\u001b[0m\n\u001b[0m",
        "\u001b[0;31mNameError\u001b[0m: name 'testData' is not defined"
       ]
      }
     ],
     "prompt_number": 24
    },
    {
     "cell_type": "code",
     "collapsed": false,
     "input": [
      "testData[0,9,:]"
     ],
     "language": "python",
     "metadata": {},
     "outputs": [
      {
       "ename": "NameError",
       "evalue": "name 'testData' is not defined",
       "output_type": "pyerr",
       "traceback": [
        "\u001b[0;31m---------------------------------------------------------------------------\u001b[0m\n\u001b[0;31mNameError\u001b[0m                                 Traceback (most recent call last)",
        "\u001b[0;32m<ipython-input-25-8890198ce4a2>\u001b[0m in \u001b[0;36m<module>\u001b[0;34m()\u001b[0m\n\u001b[0;32m----> 1\u001b[0;31m \u001b[0mtestData\u001b[0m\u001b[0;34m[\u001b[0m\u001b[0;36m0\u001b[0m\u001b[0;34m,\u001b[0m\u001b[0;36m9\u001b[0m\u001b[0;34m,\u001b[0m\u001b[0;34m:\u001b[0m\u001b[0;34m]\u001b[0m\u001b[0;34m\u001b[0m\u001b[0m\n\u001b[0m",
        "\u001b[0;31mNameError\u001b[0m: name 'testData' is not defined"
       ]
      }
     ],
     "prompt_number": 25
    },
    {
     "cell_type": "code",
     "collapsed": false,
     "input": [
      "testImages = 1 - testImages\n",
      "trainingImages = 1 - images"
     ],
     "language": "python",
     "metadata": {},
     "outputs": [],
     "prompt_number": 43
    },
    {
     "cell_type": "code",
     "collapsed": false,
     "input": [
      "gr.images(trainingImages[0:20].reshape(20,28,28))"
     ],
     "language": "python",
     "metadata": {},
     "outputs": [
      {
       "metadata": {},
       "output_type": "display_data",
       "png": "[encoded data removed]",
       "text": [
        "<matplotlib.figure.Figure at 0x115fad510>"
       ]
      }
     ],
     "prompt_number": 75
    },
    {
     "cell_type": "code",
     "collapsed": false,
     "input": [
      "testData = np.array([codeHiddenVector(x,50) for x in testImages],dtype=uint8)\n",
      "testData = np.array([spreading(x,50,1,originalSize = 24) for x in testData])\n",
      "#testData = features.bspread(testData,spread = 'box',radius = 2)\n",
      "testData = np.array([subsample(x,50,12,originalSize = 24) for x in testData])"
     ],
     "language": "python",
     "metadata": {},
     "outputs": [],
     "prompt_number": 106
    },
    {
     "cell_type": "code",
     "collapsed": false,
     "input": [
      "trainingData = np.array([codeHiddenVector(x,50) for x in trainingImages],dtype=uint8)\n",
      "trainingData = np.array([spreading(x,50,1,originalSize = 24) for x in trainingData])\n",
      "#trainingData = features.bspread(trainingData,spread = 'box', radius = 2)\n",
      "trainingData = np.array([subsample(x,50,12,originalSize = 24) for x in trainingData])"
     ],
     "language": "python",
     "metadata": {},
     "outputs": [],
     "prompt_number": 107
    },
    {
     "cell_type": "code",
     "collapsed": false,
     "input": [
      "trainingData.shape"
     ],
     "language": "python",
     "metadata": {},
     "outputs": [
      {
       "metadata": {},
       "output_type": "pyout",
       "prompt_number": 108,
       "text": [
        "(1200, 12, 12, 50)"
       ]
      }
     ],
     "prompt_number": 108
    },
    {
     "cell_type": "code",
     "collapsed": false,
     "input": [
      "clf = svm.SVC(kernel='linear')\n",
      "clf.fit(trainingData.reshape((1200,-1)),labels)"
     ],
     "language": "python",
     "metadata": {},
     "outputs": [
      {
       "metadata": {},
       "output_type": "pyout",
       "prompt_number": 109,
       "text": [
        "SVC(C=1.0, cache_size=200, class_weight=None, coef0=0.0, degree=3, gamma=0.0,\n",
        "  kernel='linear', max_iter=-1, probability=False, random_state=None,\n",
        "  shrinking=True, tol=0.001, verbose=False)"
       ]
      }
     ],
     "prompt_number": 109
    },
    {
     "cell_type": "code",
     "collapsed": false,
     "input": [
      "ty = clf.predict(testData.reshape((1000,-1)))"
     ],
     "language": "python",
     "metadata": {},
     "outputs": [],
     "prompt_number": 110
    },
    {
     "cell_type": "code",
     "collapsed": false,
     "input": [
      "(ty==tlbs).mean()"
     ],
     "language": "python",
     "metadata": {},
     "outputs": [
      {
       "metadata": {},
       "output_type": "pyout",
       "prompt_number": 111,
       "text": [
        "0.79300000000000004"
       ]
      }
     ],
     "prompt_number": 111
    },
    {
     "cell_type": "code",
     "collapsed": false,
     "input": [
      "for k in range(10):\n",
      "    gr.images(1-images[k])\n",
      "    plt.imshow(trainingData[k].sum(axis = 2),interpolation = 'nearest')\n",
      "    plt.colorbar()"
     ],
     "language": "python",
     "metadata": {},
     "outputs": [
      {
       "metadata": {},
       "output_type": "display_data",
       "png": "[encoded data removed]",
       "text": [
        "<matplotlib.figure.Figure at 0x111adc710>"
       ]
      },
      {
       "metadata": {},
       "output_type": "display_data",
       "png": "[encoded data removed]",
       "text": [
        "<matplotlib.figure.Figure at 0x111e6d1d0>"
       ]
      },
      {
       "metadata": {},
       "output_type": "display_data",
       "png": "[encoded data removed]",
       "text": [
        "<matplotlib.figure.Figure at 0x110e68e10>"
       ]
      },
      {
       "metadata": {},
       "output_type": "display_data",
       "png": "[encoded data removed]",
       "text": [
        "<matplotlib.figure.Figure at 0x111e5f290>"
       ]
      },
      {
       "metadata": {},
       "output_type": "display_data",
       "png": "[encoded data removed]",
       "text": [
        "<matplotlib.figure.Figure at 0x111a36090>"
       ]
      },
      {
       "metadata": {},
       "output_type": "display_data",
       "png": "[encoded data removed]",
       "text": [
        "<matplotlib.figure.Figure at 0x118d39510>"
       ]
      },
      {
       "metadata": {},
       "output_type": "display_data",
       "png": "[encoded data removed]",
       "text": [
        "<matplotlib.figure.Figure at 0x110eb7910>"
       ]
      },
      {
       "metadata": {},
       "output_type": "display_data",
       "png": "[encoded data removed]",
       "text": [
        "<matplotlib.figure.Figure at 0x110e61590>"
       ]
      },
      {
       "metadata": {},
       "output_type": "display_data",
       "png": "[encoded data removed]",
       "text": [
        "<matplotlib.figure.Figure at 0x111e08250>"
       ]
      },
      {
       "metadata": {},
       "output_type": "display_data",
       "png": "[encoded data removed]",
       "text": [
        "<matplotlib.figure.Figure at 0x119fb03d0>"
       ]
      },
      {
       "metadata": {},
       "output_type": "display_data",
       "png": "[encoded data removed]",
       "text": [
        "<matplotlib.figure.Figure at 0x111ef6ed0>"
       ]
      },
      {
       "metadata": {},
       "output_type": "display_data",
       "png": "[encoded data removed]",
       "text": [
        "<matplotlib.figure.Figure at 0x10c8394d0>"
       ]
      },
      {
       "metadata": {},
       "output_type": "display_data",
       "png": "[encoded data removed]",
       "text": [
        "<matplotlib.figure.Figure at 0x1103c5c50>"
       ]
      },
      {
       "metadata": {},
       "output_type": "display_data",
       "png": "[encoded data removed]",
       "text": [
        "<matplotlib.figure.Figure at 0x118d3f510>"
       ]
      },
      {
       "metadata": {},
       "output_type": "display_data",
       "png": "[encoded data removed]",
       "text": [
        "<matplotlib.figure.Figure at 0x11a3e2a90>"
       ]
      },
      {
       "metadata": {},
       "output_type": "display_data",
       "png": "[encoded data removed]",
       "text": [
        "<matplotlib.figure.Figure at 0x1103cb850>"
       ]
      },
      {
       "metadata": {},
       "output_type": "display_data",
       "png": "[encoded data removed]",
       "text": [
        "<matplotlib.figure.Figure at 0x11a3fe850>"
       ]
      },
      {
       "metadata": {},
       "output_type": "display_data",
       "png": "[encoded data removed]",
       "text": [
        "<matplotlib.figure.Figure at 0x11a3e3f50>"
       ]
      },
      {
       "metadata": {},
       "output_type": "display_data",
       "png": "[encoded data removed]",
       "text": [
        "<matplotlib.figure.Figure at 0x118d1f6d0>"
       ]
      },
      {
       "metadata": {},
       "output_type": "display_data",
       "png": "[encoded data removed]",
       "text": [
        "<matplotlib.figure.Figure at 0x118d1b4d0>"
       ]
      }
     ],
     "prompt_number": 112
    },
    {
     "cell_type": "code",
     "collapsed": false,
     "input": [],
     "language": "python",
     "metadata": {},
     "outputs": []
    }
   ],
   "metadata": {}
  }
 ]
}